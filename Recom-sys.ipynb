{
 "cells": [
  {
   "cell_type": "code",
   "execution_count": 2,
   "metadata": {
    "collapsed": true
   },
   "outputs": [],
   "source": [
    "import pandas as pd\n",
    "import numpy as np\n",
    "import matplotlib.pyplot as plt\n",
    "from sklearn.neighbors import NearestNeighbors\n",
    "import scipy.spatial.distance \n",
    "from sklearn.metrics import mean_squared_error\n",
    "from sklearn.metrics import mean_absolute_error\n",
    "from collections import defaultdict\n",
    "from math import sqrt\n",
    "import matplotlib.mlab as mlab      \n",
    "import matplotlib.pylab as pl\n",
    "\n",
    "path_train='/Users/meidou/DeskTop/ml-100k/ua.base'\n",
    "r_cols = ['user_id', 'item_id', 'rating','time']\n",
    "ubase= pd.read_csv(path_train,sep='\\t',names=r_cols);\n",
    "ubase.drop(['time'],inplace=True,axis=1)\n",
    "ubase1=pd.pivot_table(ubase,index='user_id',columns='item_id',values='rating').fillna(0)\n",
    "m=ubase1.shape[0] #users\n",
    "n=ubase1.shape[1] #items\n",
    "#print(m,n)\n",
    "#print(ubase1.head())\n",
    "items=list(set(ubase['item_id']))#all the movies in ubase\n",
    "#print(items)\n",
    "users=set(ubase['user_id'])#all the users in ubase\n",
    "\n",
    "path_test='/Users/meidou/DeskTop/ml-100k/ua.test'\n",
    "r_cols = ['user_id', 'item_id', 'rating','time']\n",
    "utest= pd.read_csv(path_test,sep='\\t',names=r_cols);\n",
    "utest.drop(['time'],inplace=True,axis=1)\n",
    "utest1=pd.pivot_table(utest,index='user_id',columns='item_id',values='rating').fillna(0)\n",
    "m_t=utest1.shape[0] # users\n",
    "n_t=utest1.shape[1] # items\n",
    "test_items=list(set(utest['item_id'])) #all the movies in utest\n",
    "#users_test=set(utest['user_id'])#all the users in utest\n",
    "\n",
    "\n",
    "#both_users=list(users.intersection(users_test)) # users in both ubase and utest\n",
    "\n",
    "\n",
    "def similar_users(u,ratings,k,metric):\n",
    "    similarities = []\n",
    "    u_neighbours = []\n",
    "    \n",
    "    nbrs = NearestNeighbors(metric=metric, n_neighbors=k,algorithm='auto').fit(ratings)\n",
    "    loc = ratings.index.get_loc(u)\n",
    "    similarities, u_neighbours = nbrs.kneighbors(ratings.iloc[loc, :].values.reshape(1, -1), n_neighbors=k+1)\n",
    "    similarities = 1 - similarities.flatten()\n",
    "    u_neighbours=u_neighbours[0]\n",
    "    #print(similarities,u_neighbours)\n",
    "    return similarities, u_neighbours\n",
    "\n",
    "def similar_items(v,ratings,k,metric):\n",
    "    similarities = []\n",
    "    v_neighbours = []\n",
    "    ratings=ratings.T\n",
    "    \n",
    "    nbrs = NearestNeighbors(metric=metric, n_neighbors=k,algorithm='auto').fit(ratings)\n",
    "    loc = ratings.index.get_loc(v)\n",
    "    similarities, v_neighbours = nbrs.kneighbors(ratings.iloc[loc, :].values.reshape(1, -1), n_neighbors=k+1)\n",
    "    similarities = 1 - similarities.flatten()\n",
    "    v_neighbours=v_neighbours[0]\n",
    "    #print(similarities,v_neighbours)\n",
    "    return similarities, v_neighbours\n",
    "\n",
    "def predict_users(k,u,ratings,items):\n",
    "    metric='correlation'\n",
    "    \n",
    "    #get the k neighbours ui\n",
    "    similarities, u_neighbours=similar_users(u,ratings,k,metric)\n",
    "    #k neighbours' favourite k*10 movies (10 for each)\n",
    "    \n",
    "    #weights = np.sum(list(similarities))# sum of the similarities\n",
    "    \n",
    "    ui_favourite_all=[] #k*10 movies\n",
    "    s_num=0# similarities[s_num]\n",
    "    \n",
    "    for ui in u_neighbours: # the first one is u itself\n",
    "        ui_watched=[]\n",
    "        if (ui==0):\n",
    "            continue\n",
    "        ui_loc=ratings.index.get_loc(ui)\n",
    "        ui_rating_sum=0\n",
    "        for i in items:#all movies\n",
    "            i_loc=ratings.columns.get_loc(i)\n",
    "            if int(ratings.iloc[ui_loc,i_loc])>0: #watched movie\n",
    "                ui_watched.append(list((ratings.iloc[ui_loc,i_loc],i)))#[rating,movieid]\n",
    "                ui_rating_sum += ratings.iloc[ui_loc,i_loc]\n",
    "        #get the mean rating of user ui\n",
    "        ui_watched=list(ui_watched)\n",
    "        ui_mean_rating=ui_rating_sum/len(ui_watched)\n",
    "        \n",
    "        if s_num==0:#u itself\n",
    "            u_watched=ui_watched # the movies u has watched\n",
    "            u_rating_sum=ui_rating_sum\n",
    "            u_mean_rating=ui_mean_rating #get the mean rating of user u         \n",
    "        else:\n",
    "            #ui_watched now contains all the movies ui has watched\n",
    "            if ui_watched is not None:\n",
    "                ui_watched.sort(key=lambda x:x[0],reverse=1)\n",
    "                if(len(ui_watched)>=10):\n",
    "                    ui_watched=ui_watched[:10] # ui's favourite 10 movies \n",
    "                for e in ui_watched:\n",
    "                    e[0]=(e[0]-ui_mean_rating)*(similarities[s_num]**2) # (rating-mean_rating)*similarity\n",
    "                    ui_favourite_all.append(e)\n",
    "        s_num+=1\n",
    "            \n",
    "    #get k users favourite 10*k movies : ui_favourite_all  \n",
    "    ui_favourite_all.sort(key=lambda x:x[0],reverse=1)\n",
    "    if(len(ui_favourite_all)>=10):\n",
    "        rec=ui_favourite_all[:10] #[rating,movieid]\n",
    "    else:\n",
    "        rec=ui_favourite_all\n",
    "    #print(u_mean_rating)\n",
    "    for e in rec:\n",
    "        e[0]=e[0]+u_mean_rating   #e[0] is the prediction\n",
    "        if e[0] <= 1:\n",
    "            e[0] = 1\n",
    "        elif e[0] >= 5:\n",
    "            e[0] = 5\n",
    "    return rec\n",
    "\n",
    "\n",
    "def predict_items(k,u,ratings,items):\n",
    "    metric='correlation'\n",
    "    u_loc=ratings.index.get_loc(u)\n",
    "    u_watched=[]\n",
    "    u_rating_sum=0\n",
    "    \n",
    "    for i in items:#all movies\n",
    "        i_loc=ratings.columns.get_loc(i)\n",
    "        if int(ratings.iloc[u_loc,i_loc])>0: #watched movie\n",
    "            u_watched.append(list((ratings.iloc[u_loc,i_loc],i)))#[rating,movieid]\n",
    "            u_rating_sum += ratings.iloc[u_loc,i_loc]\n",
    "    u_watched=list(u_watched)\n",
    "    u_mean_rating=u_rating_sum/len(u_watched)#get the mean rating of user u\n",
    "    \n",
    "    if u_watched is not None:\n",
    "        u_watched.sort(key=lambda x:x[0],reverse=1)\n",
    "        if(len(u_watched)>=10):\n",
    "            u_watched=u_watched[:10] # u's favourite 10 movies vi\n",
    "        u_ten_mean_rating=sum(u_watched[0]) / float(len(u_watched))       \n",
    "\n",
    "        all_vi=[]# [pre_rating,movieid] k*10 movies  \n",
    "        all_vi_ids=[]\n",
    "        for vi in u_watched:# u's favourite 10 movies vi\n",
    "            similarities, vi_neighbours=similar_items(vi[1],ratings,k,metric) #get the 10 neighbours of each vi\n",
    "            vi_neighbours=vi_neighbours[1:]\n",
    "            similarities=similarities[1:]\n",
    "\n",
    "            s_num=0    \n",
    "            for vii in vi_neighbours:\n",
    "                if(vii!=0 and vii in items):\n",
    "                    vii_loc=ratings.columns.get_loc(vii)\n",
    "                    vii_mean_rating = ratings.iloc[:, vii_loc].mean()\n",
    "                    all_vi_e=(u_mean_rating-vii_mean_rating)*(similarities[s_num]**2) # (rating-mean_rating)*similarity^2\n",
    "                    if vii not in all_vi_ids:\n",
    "                        all_vi_ids.append(vii)\n",
    "                        all_vi.append(list((all_vi_e,vii)))\n",
    "                    s_num+=1\n",
    "\n",
    "        #getk*10 movies : all_vi \n",
    "        all_vi.sort(key=lambda x:x[0],reverse=1)\n",
    "        if(len(all_vi)>=10):\n",
    "            rec=all_vi[:10] #[rating,movieid]\n",
    "        else:\n",
    "            rec=all_vi\n",
    "        for e in rec:\n",
    "            e[0]=e[0]+u_mean_rating   #e[0] is the prediction\n",
    "            if e[0] <= 1:\n",
    "                e[0] = 1\n",
    "            elif e[0] >= 5:\n",
    "                e[0] = 5\n",
    "        return rec \n",
    "\n",
    "\n",
    "def predict_hybrid(k,u,ratings,items):\n",
    "    metric='correlation'\n",
    "    \n",
    "    #get the k neighbours ui\n",
    "    similarities, u_neighbours=similar_users(u,ratings,k,metric)\n",
    "    #k neighbours' favourite k*10 movies (10 for each)\n",
    "    \n",
    "    #weights = np.sum(list(similarities))# sum of the similarities\n",
    "    \n",
    "    ui_favourite_all=[] #k*10 movies\n",
    "    ui_favourite_all_ids=[]  \n",
    "    s_num=0# similarities[s_num]\n",
    "    \n",
    "    for ui in u_neighbours: # the first one is u itself\n",
    "        ui_watched=[]\n",
    "        if (ui==0):\n",
    "            continue\n",
    "        ui_loc=ratings.index.get_loc(ui)\n",
    "        ui_rating_sum=0\n",
    "        for i in items:#all movies\n",
    "            i_loc=ratings.columns.get_loc(i)\n",
    "            if int(ratings.iloc[ui_loc,i_loc])>0: #watched movie\n",
    "                ui_watched.append(list((ratings.iloc[ui_loc,i_loc],i)))#[rating,movieid]\n",
    "                ui_rating_sum += ratings.iloc[ui_loc,i_loc]\n",
    "        #get the mean rating of user ui\n",
    "        ui_watched=list(ui_watched)\n",
    "        ui_mean_rating=ui_rating_sum/len(ui_watched)\n",
    "        \n",
    "        if s_num==0:#u itself\n",
    "            u_watched=ui_watched # the movies u has watched\n",
    "            u_rating_sum=ui_rating_sum\n",
    "            u_mean_rating=ui_mean_rating #get the mean rating of user u \n",
    "        else:\n",
    "            #ui_watched now contains all the movies ui has watched\n",
    "            if ui_watched is not None:\n",
    "                ui_watched.sort(key=lambda x:x[0],reverse=1)\n",
    "                if(len(ui_watched)>=10):\n",
    "                    ui_watched=ui_watched[:10] # ui's favourite 10 movies \n",
    "                  \n",
    "                for e in ui_watched:\n",
    "                    if e[1] not in ui_favourite_all_ids:\n",
    "                        e[0]=(e[0]-ui_mean_rating)*(similarities[s_num]**2) # (rating-mean_rating)*similarity\n",
    "                        ui_favourite_all.append(e)\n",
    "                        ui_favourite_all_ids.append(e[1])\n",
    "            \n",
    "        s_num+=1\n",
    "        \n",
    "    rec=[]\n",
    "    if u_watched is not None:\n",
    "        u_watched.sort(key=lambda x:x[0],reverse=1)\n",
    "        if(len(u_watched)>=10):\n",
    "            u_watched=u_watched[:10] \n",
    "        u_ten_mean_rating=sum(u_watched[0]) / float(len(u_watched))       \n",
    "\n",
    "        all_vi=[]# [pre_rating,movieid] \n",
    "        all_vi_ids=[]\n",
    "        for vi in ui_favourite_all_ids:\n",
    "            similarities, vi_neighbours=similar_items(vi,ratings,k,metric) #get the 10 neighbours of each vi\n",
    "            vi_neighbours=vi_neighbours[1:]\n",
    "            similarities=similarities[1:]\n",
    "\n",
    "            s_num=0    \n",
    "            for vii in vi_neighbours:\n",
    "                if(vii!=0 and vii in items):\n",
    "                    vii_loc=ratings.columns.get_loc(vii)\n",
    "                    vii_mean_rating = ratings.iloc[:, vii_loc].mean()\n",
    "                    all_vi_e=(u_mean_rating-vii_mean_rating)*(similarities[s_num]**2) # (rating-mean_rating)*similarity^2\n",
    "                    if vii not in all_vi_ids:\n",
    "                        all_vi_ids.append(vii)\n",
    "                        all_vi.append(list((all_vi_e,vii)))\n",
    "                    s_num+=1\n",
    "\n",
    "    #getk*10 movies : all_vi \n",
    "    all_vi.sort(key=lambda x:x[0],reverse=1)\n",
    "    if(len(all_vi)>=10):\n",
    "        rec=all_vi[:10] #[rating,movieid]\n",
    "    else:\n",
    "        rec=all_vi\n",
    "    for e in rec:\n",
    "        e[0]=e[0]+u_mean_rating   #e[0] is the prediction\n",
    "        if e[0] <= 1:\n",
    "            e[0] = 1\n",
    "        elif e[0] >= 5:\n",
    "            e[0] = 5\n",
    "        \n",
    "    return rec\n",
    "\n",
    "def MAE_u(k,u,ratings,test,test_items,items):#mae for user u\n",
    "    rec=predict_users(k,u,ratings,items) # recommend list for user u\n",
    "    #rec=predict_items(k,u,ratings,items)\n",
    "    #rec=predict_hybrid(k,u,ratings,items)\n",
    "    u_loc=test.index.get_loc(u) #position of u in utest\n",
    "    u_watched_test=defaultdict() # dictionary {movieid: true_rate}\n",
    "    mae=[]\n",
    "    mae.append(1.0)\n",
    "    \n",
    "    for i in test_items:#all the movies in utest\n",
    "        i_loc=test.columns.get_loc(i)\n",
    "        if int(test.iloc[u_loc,i_loc])>0: #watched movie\n",
    "            u_watched_test[i]= test.iloc[u_loc,i_loc] # {movieid: true_rate}\n",
    "                  \n",
    "    for e in rec:\n",
    "        if e[1] in u_watched_test.keys(): #item_id is e[1]\n",
    "            agr1=[u_watched_test[e[1]]]\n",
    "            agr2=[e[0]]\n",
    "            mae.append(sqrt(mean_absolute_error(agr1,agr2))) #e[0] is the predicted rate\n",
    "    \n",
    "    mae_ave = sum(mae) / float(len(mae))       \n",
    "    return mae_ave\n",
    "\n",
    "def MAE(k,ratings,test,test_items,items,users):\n",
    "    all_mae=[]\n",
    "    all_mae.append(1.0)\n",
    "    for u in users:\n",
    "        all_mae.append(MAE_u(k,u,ubase1,utest1,test_items,items))\n",
    "    if all_mae is not None:\n",
    "        mae_ave = sum(all_mae) / float(len(all_mae))       \n",
    "    return mae_ave"
   ]
  },
  {
   "cell_type": "code",
   "execution_count": 19,
   "metadata": {
    "collapsed": true
   },
   "outputs": [],
   "source": [
    "def RMSE_u(k,u,ratings,test,test_items,items):  #rmse for user u\n",
    "    rec=predict_users(k,u,ratings,items) # recommend list for user u\n",
    "    #rec=predict_items(k,u,ratings,items)\n",
    "    #rec=predict_hybrid(k,u,ratings,items)\n",
    "    u_loc=test.index.get_loc(u) #position of u in utest\n",
    "    u_watched_test=defaultdict() # dictionary {movieid: true_rate}\n",
    "    rmse=[]\n",
    "    rmse.append(1.0)\n",
    "    \n",
    "    for i in test_items:#all the movies in utest\n",
    "        i_loc=test.columns.get_loc(i)\n",
    "        if int(test.iloc[u_loc,i_loc])>0: #watched movie\n",
    "            u_watched_test[i]= test.iloc[u_loc,i_loc] # {movieid: true_rate}\n",
    "                  \n",
    "    for e in rec:\n",
    "        if e[1] in u_watched_test.keys(): #item_id is e[1]\n",
    "            agr1=[u_watched_test[e[1]]]\n",
    "            agr2=[e[0]]\n",
    "            rmse.append(sqrt(mean_squared_error(agr1,agr2))) #e[0] is the predicted rate\n",
    "    \n",
    "    rmse_ave = sum(rmse) / float(len(rmse))       \n",
    "    return rmse_ave\n",
    "\n",
    "def RMSE(k,ratings,test,test_items,items,users):\n",
    "    all_rmse=[]\n",
    "    all_rmse.append(1.0)\n",
    "    for u in users:\n",
    "        all_rmse.append(RMSE_u(k,u,ubase1,utest1,test_items,items))\n",
    "    if all_rmse is not None:\n",
    "        rmse_ave = sum(all_rmse) / float(len(all_rmse))       \n",
    "    return rmse_ave\n",
    "\n"
   ]
  },
  {
   "cell_type": "code",
   "execution_count": 43,
   "metadata": {},
   "outputs": [
    {
     "name": "stdout",
     "output_type": "stream",
     "text": [
      "943 1680\n",
      "item_id  1     2     3     4     5     6     7     8     9     10    ...   \\\n",
      "user_id                                                              ...    \n",
      "1         5.0   3.0   4.0   3.0   3.0   5.0   4.0   1.0   5.0   3.0  ...    \n",
      "2         4.0   0.0   0.0   0.0   0.0   0.0   0.0   0.0   0.0   2.0  ...    \n",
      "3         0.0   0.0   0.0   0.0   0.0   0.0   0.0   0.0   0.0   0.0  ...    \n",
      "4         0.0   0.0   0.0   0.0   0.0   0.0   0.0   0.0   0.0   0.0  ...    \n",
      "5         0.0   0.0   0.0   0.0   0.0   0.0   0.0   0.0   0.0   0.0  ...    \n",
      "\n",
      "item_id  1673  1674  1675  1676  1677  1678  1679  1680  1681  1682  \n",
      "user_id                                                              \n",
      "1         0.0   0.0   0.0   0.0   0.0   0.0   0.0   0.0   0.0   0.0  \n",
      "2         0.0   0.0   0.0   0.0   0.0   0.0   0.0   0.0   0.0   0.0  \n",
      "3         0.0   0.0   0.0   0.0   0.0   0.0   0.0   0.0   0.0   0.0  \n",
      "4         0.0   0.0   0.0   0.0   0.0   0.0   0.0   0.0   0.0   0.0  \n",
      "5         0.0   0.0   0.0   0.0   0.0   0.0   0.0   0.0   0.0   0.0  \n",
      "\n",
      "[5 rows x 1680 columns]\n"
     ]
    }
   ],
   "source": [
    "print(m,n)\n",
    "print(ubase1.head())"
   ]
  },
  {
   "cell_type": "code",
   "execution_count": 44,
   "metadata": {},
   "outputs": [
    {
     "name": "stdout",
     "output_type": "stream",
     "text": [
      "943 1129\n",
      "item_id  1     2     3     4     5     6     7     8     9     10    ...   \\\n",
      "user_id                                                              ...    \n",
      "1         0.0   0.0   0.0   0.0   0.0   0.0   0.0   0.0   0.0   0.0  ...    \n",
      "2         0.0   0.0   0.0   0.0   0.0   0.0   0.0   0.0   0.0   0.0  ...    \n",
      "3         0.0   0.0   0.0   0.0   0.0   0.0   0.0   0.0   0.0   0.0  ...    \n",
      "4         0.0   0.0   0.0   0.0   0.0   0.0   0.0   0.0   0.0   0.0  ...    \n",
      "5         4.0   3.0   0.0   0.0   0.0   0.0   0.0   0.0   0.0   0.0  ...    \n",
      "\n",
      "item_id  1591  1592  1600  1612  1617  1646  1653  1656  1662  1664  \n",
      "user_id                                                              \n",
      "1         0.0   0.0   0.0   0.0   0.0   0.0   0.0   0.0   0.0   0.0  \n",
      "2         0.0   0.0   0.0   0.0   0.0   0.0   0.0   0.0   0.0   0.0  \n",
      "3         0.0   0.0   0.0   0.0   0.0   0.0   0.0   0.0   0.0   0.0  \n",
      "4         0.0   0.0   0.0   0.0   0.0   0.0   0.0   0.0   0.0   0.0  \n",
      "5         0.0   0.0   0.0   0.0   0.0   0.0   0.0   0.0   0.0   0.0  \n",
      "\n",
      "[5 rows x 1129 columns]\n"
     ]
    }
   ],
   "source": [
    "print(m_t,n_t)\n",
    "print(utest1.head())"
   ]
  },
  {
   "cell_type": "code",
   "execution_count": 38,
   "metadata": {},
   "outputs": [
    {
     "data": {
      "text/plain": [
       "(array([ 1.        ,  0.46143481,  0.45339508,  0.45218851,  0.45215249,\n",
       "         0.44974713,  0.44811877,  0.43562858,  0.43535557,  0.43494111,\n",
       "         0.4306073 ]),\n",
       " array([  4, 647, 496, 306,  21, 659, 621, 406,  43, 267, 278]))"
      ]
     },
     "execution_count": 38,
     "metadata": {},
     "output_type": "execute_result"
    }
   ],
   "source": [
    "#10 neighbours for user 4\n",
    "u=5\n",
    "k=10\n",
    "metric='cosine'\n",
    "similar_users(u,ubase1,k,metric)"
   ]
  },
  {
   "cell_type": "code",
   "execution_count": 106,
   "metadata": {},
   "outputs": [
    {
     "data": {
      "text/plain": [
       "(array([ 1.        ,  0.27137546,  0.26900585,  0.26408451,  0.26027397,\n",
       "         0.26022305,  0.25515464,  0.25207756,  0.24776119,  0.24742268,\n",
       "         0.24669604]),\n",
       " array([  4,  55, 496, 842, 494, 932, 803, 647, 471, 867,  21]))"
      ]
     },
     "execution_count": 106,
     "metadata": {},
     "output_type": "execute_result"
    }
   ],
   "source": [
    "#10 neighbours for user 4\n",
    "u=5\n",
    "k=10\n",
    "metric='jaccard'\n",
    "similar_users(u,ubase1,k,metric)"
   ]
  },
  {
   "cell_type": "code",
   "execution_count": 3,
   "metadata": {},
   "outputs": [
    {
     "data": {
      "text/plain": [
       "(array([ 1.        ,  0.41295631,  0.41216203,  0.39798143,  0.39277464,\n",
       "         0.3896711 ,  0.38877214,  0.38676739,  0.3752826 ,  0.37473417,\n",
       "         0.37390591]),\n",
       " array([  4, 306,  21, 647, 659, 621, 496,  43, 737, 406,  55]))"
      ]
     },
     "execution_count": 3,
     "metadata": {},
     "output_type": "execute_result"
    }
   ],
   "source": [
    "u=5\n",
    "k=10\n",
    "metric='correlation'\n",
    "similar_users(u,ubase1,k,metric)"
   ]
  },
  {
   "cell_type": "code",
   "execution_count": 107,
   "metadata": {},
   "outputs": [
    {
     "data": {
      "text/plain": [
       "(array([ 1.        ,  0.53349429,  0.52887554,  0.52714899,  0.5238244 ,\n",
       "         0.5226917 ,  0.52081735,  0.50467852,  0.49348783,  0.49345362,\n",
       "         0.49261179]),\n",
       " array([ 54,  55,  95, 194,  11, 175,  10,  67, 182,  91,  23]))"
      ]
     },
     "execution_count": 107,
     "metadata": {},
     "output_type": "execute_result"
    }
   ],
   "source": [
    "#10 neighbours for movie 54\n",
    "v=55\n",
    "k=10\n",
    "metric='cosine'\n",
    "similar_items(v,ubase1,k,metric)"
   ]
  },
  {
   "cell_type": "code",
   "execution_count": 108,
   "metadata": {},
   "outputs": [
    {
     "data": {
      "text/plain": [
       "(array([ 1.        ,  0.37234043,  0.36821705,  0.36054422,  0.35748792,\n",
       "         0.35616438,  0.35275081,  0.34375   ,  0.33887043,  0.33695652,\n",
       "         0.33678756]),\n",
       " array([ 54,  67,  10,  95, 549, 225, 194,  11, 175, 183,  52]))"
      ]
     },
     "execution_count": 108,
     "metadata": {},
     "output_type": "execute_result"
    }
   ],
   "source": [
    "#10 neighbours for movie 54\n",
    "v=55\n",
    "k=10\n",
    "metric='jaccard'\n",
    "similar_items(v,ubase1,k,metric)"
   ]
  },
  {
   "cell_type": "code",
   "execution_count": 4,
   "metadata": {},
   "outputs": [
    {
     "data": {
      "text/plain": [
       "(array([ 1.        ,  0.43354217,  0.43004439,  0.42639645,  0.42592432,\n",
       "         0.42273149,  0.42165111,  0.42135406,  0.42018555,  0.41797403,\n",
       "         0.40784224]),\n",
       " array([ 54,  67,  91,  95,  10,  55, 194,  11, 183, 175,  41]))"
      ]
     },
     "execution_count": 4,
     "metadata": {},
     "output_type": "execute_result"
    }
   ],
   "source": [
    "#10 neighbours for movie 54\n",
    "v=55\n",
    "k=10\n",
    "metric='correlation'\n",
    "similar_items(v,ubase1,k,metric)"
   ]
  },
  {
   "cell_type": "code",
   "execution_count": null,
   "metadata": {
    "collapsed": true
   },
   "outputs": [],
   "source": [
    "#_____________________________________________User-Based_____________________________________________\n"
   ]
  },
  {
   "cell_type": "code",
   "execution_count": 47,
   "metadata": {
    "scrolled": true
   },
   "outputs": [
    {
     "name": "stdout",
     "output_type": "stream",
     "text": [
      "reccomend 10 movies for user 344:\n",
      "predicted_rating   movieId\n",
      "3.68888888889\n"
     ]
    },
    {
     "data": {
      "text/plain": [
       "[[4.0252838358965306, 271],\n",
       " [4.0252838358965306, 301],\n",
       " [3.9873016270485473, 1],\n",
       " [3.9873016270485473, 2],\n",
       " [3.9873016270485473, 28],\n",
       " [3.9873016270485473, 48],\n",
       " [3.9873016270485473, 50],\n",
       " [3.9873016270485473, 58],\n",
       " [3.9873016270485473, 64],\n",
       " [3.9873016270485473, 77]]"
      ]
     },
     "execution_count": 47,
     "metadata": {},
     "output_type": "execute_result"
    }
   ],
   "source": [
    "u=345\n",
    "print('reccomend 10 movies for user 344:')\n",
    "print('predicted_rating   movieId')\n",
    "predict_users(u,ubase1,items)  #k=10\n",
    "#3.688888889 is the mean rating of user 344"
   ]
  },
  {
   "cell_type": "code",
   "execution_count": 4,
   "metadata": {},
   "outputs": [
    {
     "data": {
      "image/png": "[encoded data removed]",
      "text/plain": [
       "<matplotlib.figure.Figure at 0x102c5e710>"
      ]
     },
     "metadata": {},
     "output_type": "display_data"
    }
   ],
   "source": [
    "X=[10,20,30,40,50,60,70,80,90,100] \n",
    "Y=[0.9808051007612987,0.9803219656589165,0.980358184819963,0.9808850859069592,0.981706396075496,0.9819276803958288,0.9819343851470739,0.9819383158543232,0.9819977389412647,0.9820926475927453]\n",
    "fig = plt.figure()\n",
    "plt.bar(X,Y,5,color=\"blue\")  \n",
    "plt.xlabel(\"k\")  \n",
    "plt.ylabel(\"MAE\") \n",
    "plt.ylim(0.975,0.983)\n",
    "plt.title(\"User-based MAE correlation distribution as k increases\")    \n",
    "plt.show()  "
   ]
  },
  {
   "cell_type": "code",
   "execution_count": 25,
   "metadata": {},
   "outputs": [
    {
     "data": {
      "image/png": "[encoded data removed]",
      "text/plain": [
       "<matplotlib.figure.Figure at 0x11d7cd828>"
      ]
     },
     "metadata": {},
     "output_type": "display_data"
    }
   ],
   "source": [
    "X=[10,20,30,40,50] \n",
    "Y1=[0.9808051007612987,0.9803219656589165,0.980358184819963,0.9808850859069592,0.981706396075496]#pearson\n",
    "Y2=[0.9808051007612987,0.9823343870675297,0.9816122314103713,0.9819401987897299,0.9829476378128365]#cosine\n",
    "Y3=[1.0224867901402408,1.0184658928954553,1.0188450949671404,1.0188450949671404,1.0183229676059802]#jaccard\n",
    "pl.plot(X,Y1,color=\"red\") \n",
    "pl.plot(X,Y2,color=\"green\") \n",
    "pl.plot(X,Y3,color=\"blue\") \n",
    "pl.xlabel(\"k\")  \n",
    "pl.ylabel(\"MAE\") \n",
    "pl.ylim(0.95,1.03)\n",
    "pl.title(\"User-based MAE distribution for different similarity calculation methods\")    \n",
    "pl.show()  \n"
   ]
  },
  {
   "cell_type": "code",
   "execution_count": 5,
   "metadata": {},
   "outputs": [
    {
     "data": {
      "image/png": "[encoded data removed]",
      "text/plain": [
       "<matplotlib.figure.Figure at 0x10a77be48>"
      ]
     },
     "metadata": {},
     "output_type": "display_data"
    }
   ],
   "source": [
    "X=[5,10,15,20,25,30] \n",
    "Y=[0.9885250771478872,0.9802840616905629,0.9753177280323085,0.9715847819989459,0.9639916784869422,0.9628391367933024]\n",
    "fig = plt.figure()\n",
    "plt.bar(X,Y,2,color=\"blue\")  \n",
    "plt.xlabel(\"N\")  \n",
    "plt.ylabel(\"MAE\") \n",
    "plt.ylim(0.95,0.99)\n",
    "plt.title(\"User-based MAE correlation distribution as N increases \")    \n",
    "plt.show()"
   ]
  },
  {
   "cell_type": "code",
   "execution_count": 45,
   "metadata": {},
   "outputs": [
    {
     "name": "stdout",
     "output_type": "stream",
     "text": [
      "0.9885250771478872\n"
     ]
    }
   ],
   "source": [
    "print(MAE(10,ubase1,utest1,test_items,items,users)) #user-based,k=10,N=5,recommend for all users  colleration"
   ]
  },
  {
   "cell_type": "code",
   "execution_count": 6,
   "metadata": {},
   "outputs": [
    {
     "name": "stdout",
     "output_type": "stream",
     "text": [
      "0.9802840616905629\n"
     ]
    }
   ],
   "source": [
    "print(MAE(10,ubase1,utest1,test_items,items,users)) #user-based,k=10,N=10recommend for all users  colleration"
   ]
  },
  {
   "cell_type": "code",
   "execution_count": 4,
   "metadata": {},
   "outputs": [
    {
     "name": "stdout",
     "output_type": "stream",
     "text": [
      "0.9753177280323085\n"
     ]
    }
   ],
   "source": [
    "print(MAE(10,ubase1,utest1,test_items,items,users)) #user-based,k=10,N=15 recommend for all users  colleration"
   ]
  },
  {
   "cell_type": "code",
   "execution_count": 6,
   "metadata": {},
   "outputs": [
    {
     "name": "stdout",
     "output_type": "stream",
     "text": [
      "0.9715847819989459\n"
     ]
    }
   ],
   "source": [
    "print(MAE(10,ubase1,utest1,test_items,items,users)) #user-based,k=10,N=20 recommend for all users  colleration"
   ]
  },
  {
   "cell_type": "code",
   "execution_count": 8,
   "metadata": {
    "scrolled": true
   },
   "outputs": [
    {
     "name": "stdout",
     "output_type": "stream",
     "text": [
      "0.9639916784869422\n"
     ]
    }
   ],
   "source": [
    "print(MAE(10,ubase1,utest1,test_items,items,users)) #user-based,k=10,N=25 recommend for all users  colleration"
   ]
  },
  {
   "cell_type": "code",
   "execution_count": 10,
   "metadata": {},
   "outputs": [
    {
     "name": "stdout",
     "output_type": "stream",
     "text": [
      "0.9628391367933024\n"
     ]
    }
   ],
   "source": [
    "print(MAE(10,ubase1,utest1,test_items,items,users)) #user-based,k=10,N=30 recommend for all users  colleration"
   ]
  },
  {
   "cell_type": "code",
   "execution_count": null,
   "metadata": {
    "collapsed": true
   },
   "outputs": [],
   "source": [
    "#_____________________________________________Item-Based______________________________________________________"
   ]
  },
  {
   "cell_type": "code",
   "execution_count": 17,
   "metadata": {},
   "outputs": [
    {
     "data": {
      "text/plain": [
       "[[4.3139016116264948, 6],\n",
       " [4.3028090550308269, 120],\n",
       " [4.252082760160965, 49],\n",
       " [4.2298041980132961, 233],\n",
       " [4.223806624038553, 21],\n",
       " [4.2117315638013801, 78],\n",
       " [4.1963318969990357, 63],\n",
       " [4.1852059945123461, 236],\n",
       " [4.175326039329514, 180],\n",
       " [4.1683101924714183, 10]]"
      ]
     },
     "execution_count": 17,
     "metadata": {},
     "output_type": "execute_result"
    }
   ],
   "source": [
    "u=345#item based\n",
    "predict_items(10,u,ubase1,items)"
   ]
  },
  {
   "cell_type": "code",
   "execution_count": 24,
   "metadata": {
    "scrolled": true
   },
   "outputs": [
    {
     "data": {
      "image/png": "[encoded data removed]",
      "text/plain": [
       "<matplotlib.figure.Figure at 0x11fccd7f0>"
      ]
     },
     "metadata": {},
     "output_type": "display_data"
    }
   ],
   "source": [
    "X=[10,20,30,40,50,60,70,80,90,100] \n",
    "Y=[1.0224867901402408,1.0184658928954553,1.0188450949671404,1.0188450949671404,1.0183229676059802,1.0183229676059802,1.0183229676059802,1.0183229676059802,1.0183229676059802,1.0183229676059802]\n",
    "fig = plt.figure()\n",
    "plt.bar(X,Y,5,color=\"blue\")  \n",
    "plt.xlabel(\"k\")  \n",
    "plt.ylabel(\"MAE\") \n",
    "plt.ylim(1.0,1.03)\n",
    "plt.title(\"Item-based MAE correlation distribution as k increases\")    \n",
    "plt.show()  "
   ]
  },
  {
   "cell_type": "code",
   "execution_count": null,
   "metadata": {
    "collapsed": true
   },
   "outputs": [],
   "source": [
    "#_____________________________________________User-Item-Based______________________________________________________"
   ]
  },
  {
   "cell_type": "code",
   "execution_count": 5,
   "metadata": {},
   "outputs": [
    {
     "name": "stdout",
     "output_type": "stream",
     "text": [
      "reccomend 10 movies for user 98:\n",
      "predicted_rating   movieId\n"
     ]
    },
    {
     "data": {
      "text/plain": [
       "[[5, 60],\n",
       " [5, 59],\n",
       " [4.9168058742211187, 120],\n",
       " [4.9143549174556211, 6],\n",
       " [4.9075526065995714, 545],\n",
       " [4.8931902183465974, 264],\n",
       " [4.877106928495504, 233],\n",
       " [4.8688698284149492, 407],\n",
       " [4.8582070270941262, 188],\n",
       " [4.8297529999662911, 267]]"
      ]
     },
     "execution_count": 5,
     "metadata": {},
     "output_type": "execute_result"
    }
   ],
   "source": [
    "u=99\n",
    "print('reccomend 10 movies for user 98:')\n",
    "print('predicted_rating   movieId')\n",
    "predict_hybrid(10,u,ubase1,items)  #k=10"
   ]
  },
  {
   "cell_type": "code",
   "execution_count": 41,
   "metadata": {},
   "outputs": [
    {
     "data": {
      "image/png": "[encoded data removed]",
      "text/plain": [
       "<matplotlib.figure.Figure at 0x11d2e4198>"
      ]
     },
     "metadata": {},
     "output_type": "display_data"
    }
   ],
   "source": [
    "X=[10,20,30,40,50,60,70,80,90,100] \n",
    "Y=[1.021930184999806,1.0232778175478656,1.0262429389248472,1.0262442387289749,1.0269463256238523,1.0283229676059802,1.0283229676059802,1.0283229676059802,1.0283229676059802,1.0283229676059802]\n",
    "fig = plt.figure()\n",
    "plt.bar(X,Y,5,color=\"blue\")  \n",
    "plt.xlabel(\"k\")  \n",
    "plt.ylabel(\"MAE\") \n",
    "plt.ylim(1.005,1.035)\n",
    "plt.title(\"User-Item-based MAE correlation distribution as k increases\")    \n",
    "plt.show()  \n"
   ]
  },
  {
   "cell_type": "code",
   "execution_count": 30,
   "metadata": {},
   "outputs": [
    {
     "data": {
      "image/png": "[encoded data removed]",
      "text/plain": [
       "<matplotlib.figure.Figure at 0x110329b38>"
      ]
     },
     "metadata": {},
     "output_type": "display_data"
    }
   ],
   "source": [
    "X=[10,20,30,40,50] \n",
    "Y1=[0.9808051007612987,0.9803219656589165,0.980358184819963,0.9808850859069592,0.981706396075496] #user\n",
    "Y2=[1.0444792360112929,1.0362727749913372,1.0370453275386013,1.0370453275386013,1.0359816663538504]#item\n",
    "Y3=[1.021930184999806,1.0232778175478656,1.0262429389248472,1.0262442387289749,1.0269463256238523]#user-item\n",
    "pl.plot(X,Y1,color=\"red\") \n",
    "pl.plot(X,Y2,color=\"green\") \n",
    "pl.plot(X,Y3,color=\"blue\") \n",
    "pl.xlabel(\"k\")  \n",
    "pl.ylabel(\"MAE\") \n",
    "pl.ylim(0.95,1.05)\n",
    "pl.title(\"MAE distribution for three models\")    \n",
    "pl.show()  "
   ]
  }
 ],
 "metadata": {
  "kernelspec": {
   "display_name": "Python 3",
   "language": "python",
   "name": "python3"
  },
  "language_info": {
   "codemirror_mode": {
    "name": "ipython",
    "version": 3
   },
   "file_extension": ".py",
   "mimetype": "text/x-python",
   "name": "python",
   "nbconvert_exporter": "python",
   "pygments_lexer": "ipython3",
   "version": "3.6.1"
  }
 },
 "nbformat": 4,
 "nbformat_minor": 2
}
